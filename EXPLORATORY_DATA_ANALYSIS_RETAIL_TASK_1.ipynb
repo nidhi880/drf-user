{
  "nbformat": 4,
  "nbformat_minor": 0,
  "metadata": {
    "colab": {
      "name": "EXPLORATORY DATA ANALYSIS RETAIL TASK 1.ipynb",
      "provenance": [],
      "collapsed_sections": [],
      "authorship_tag": "ABX9TyNH1psQDPZSHpdFQOG9Pq5R",
      "include_colab_link": true
    },
    "kernelspec": {
      "display_name": "Python 3",
      "name": "python3"
    },
    "language_info": {
      "name": "python"
    }
  },
  "cells": [
    {
      "cell_type": "markdown",
      "metadata": {
        "id": "view-in-github",
        "colab_type": "text"
      },
      "source": [
        "<a href=\"https://colab.research.google.com/github/nidhi880/drf-user/blob/master/EXPLORATORY_DATA_ANALYSIS_RETAIL_TASK_1.ipynb\" target=\"_parent\"><img src=\"https://colab.research.google.com/assets/colab-badge.svg\" alt=\"Open In Colab\"/></a>"
      ]
    },
    {
      "cell_type": "markdown",
      "metadata": {
        "id": "vrjHqeTP7Ad4"
      },
      "source": [
        "# **Code By:Nidhi Agnihotri**"
      ]
    },
    {
      "cell_type": "markdown",
      "metadata": {
        "id": "4HxHuOE667O_"
      },
      "source": [
        "## **Task 3: Exploratory Data Analysis - Retail**"
      ]
    },
    {
      "cell_type": "markdown",
      "metadata": {
        "id": "J-ZMM3te7Fqt"
      },
      "source": [
        "**Problem Statement: Perform ‘Exploratory Data Analysis’ on dataset ‘SampleSuperstore'. This task is about Exploratory Data Analysis,i.e Retail where the task focuses on a business manager who will try to find out weak areas where he can work to make more profit.**"
      ]
    },
    {
      "cell_type": "code",
      "metadata": {
        "colab": {
          "resources": {
            "http://localhost:8080/nbextensions/google.colab/files.js": {
              "data": "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",
              "ok": true,
              "headers": [
                [
                  "content-type",
                  "application/javascript"
                ]
              ],
              "status": 200,
              "status_text": ""
            }
          },
          "base_uri": "https://localhost:8080/",
          "height": 73
        },
        "id": "wqaVsG0k7VM3",
        "outputId": "2b269e09-dcf5-4aac-91f6-ff7ef6d829c5"
      },
      "source": [
        "#Importing Libraries\n",
        "import pandas as pd\n",
        "import numpy as np\n",
        "import seaborn as sns\n",
        "from matplotlib import pyplot as plt\n",
        "%matplotlib inline\n",
        "from google.colab import files\n",
        "uploaded=files.upload()\n"
      ],
      "execution_count": 2,
      "outputs": [
        {
          "output_type": "display_data",
          "data": {
            "text/html": [
              "\n",
              "     <input type=\"file\" id=\"files-e138b806-195b-4863-af3a-e683ddfbba48\" name=\"files[]\" multiple disabled\n",
              "        style=\"border:none\" />\n",
              "     <output id=\"result-e138b806-195b-4863-af3a-e683ddfbba48\">\n",
              "      Upload widget is only available when the cell has been executed in the\n",
              "      current browser session. Please rerun this cell to enable.\n",
              "      </output>\n",
              "      <script src=\"/nbextensions/google.colab/files.js\"></script> "
            ],
            "text/plain": [
              "<IPython.core.display.HTML object>"
            ]
          },
          "metadata": {
            "tags": []
          }
        },
        {
          "output_type": "stream",
          "text": [
            "Saving SampleSuperstore.csv to SampleSuperstore (1).csv\n"
          ],
          "name": "stdout"
        }
      ]
    },
    {
      "cell_type": "code",
      "metadata": {
        "id": "V8lPwMFY9-Rw",
        "colab": {
          "base_uri": "https://localhost:8080/",
          "height": 203
        },
        "outputId": "cbcecfc7-9724-4bc0-fc3b-ebf8d0680739"
      },
      "source": [
        "df=pd.read_csv('SampleSuperstore.csv')\n",
        "df.head()"
      ],
      "execution_count": 3,
      "outputs": [
        {
          "output_type": "execute_result",
          "data": {
            "text/html": [
              "<div>\n",
              "<style scoped>\n",
              "    .dataframe tbody tr th:only-of-type {\n",
              "        vertical-align: middle;\n",
              "    }\n",
              "\n",
              "    .dataframe tbody tr th {\n",
              "        vertical-align: top;\n",
              "    }\n",
              "\n",
              "    .dataframe thead th {\n",
              "        text-align: right;\n",
              "    }\n",
              "</style>\n",
              "<table border=\"1\" class=\"dataframe\">\n",
              "  <thead>\n",
              "    <tr style=\"text-align: right;\">\n",
              "      <th></th>\n",
              "      <th>Ship Mode</th>\n",
              "      <th>Segment</th>\n",
              "      <th>Country</th>\n",
              "      <th>City</th>\n",
              "      <th>State</th>\n",
              "      <th>Postal Code</th>\n",
              "      <th>Region</th>\n",
              "      <th>Category</th>\n",
              "      <th>Sub-Category</th>\n",
              "      <th>Sales</th>\n",
              "      <th>Quantity</th>\n",
              "      <th>Discount</th>\n",
              "      <th>Profit</th>\n",
              "    </tr>\n",
              "  </thead>\n",
              "  <tbody>\n",
              "    <tr>\n",
              "      <th>0</th>\n",
              "      <td>Second Class</td>\n",
              "      <td>Consumer</td>\n",
              "      <td>United States</td>\n",
              "      <td>Henderson</td>\n",
              "      <td>Kentucky</td>\n",
              "      <td>42420</td>\n",
              "      <td>South</td>\n",
              "      <td>Furniture</td>\n",
              "      <td>Bookcases</td>\n",
              "      <td>261.9600</td>\n",
              "      <td>2</td>\n",
              "      <td>0.00</td>\n",
              "      <td>41.9136</td>\n",
              "    </tr>\n",
              "    <tr>\n",
              "      <th>1</th>\n",
              "      <td>Second Class</td>\n",
              "      <td>Consumer</td>\n",
              "      <td>United States</td>\n",
              "      <td>Henderson</td>\n",
              "      <td>Kentucky</td>\n",
              "      <td>42420</td>\n",
              "      <td>South</td>\n",
              "      <td>Furniture</td>\n",
              "      <td>Chairs</td>\n",
              "      <td>731.9400</td>\n",
              "      <td>3</td>\n",
              "      <td>0.00</td>\n",
              "      <td>219.5820</td>\n",
              "    </tr>\n",
              "    <tr>\n",
              "      <th>2</th>\n",
              "      <td>Second Class</td>\n",
              "      <td>Corporate</td>\n",
              "      <td>United States</td>\n",
              "      <td>Los Angeles</td>\n",
              "      <td>California</td>\n",
              "      <td>90036</td>\n",
              "      <td>West</td>\n",
              "      <td>Office Supplies</td>\n",
              "      <td>Labels</td>\n",
              "      <td>14.6200</td>\n",
              "      <td>2</td>\n",
              "      <td>0.00</td>\n",
              "      <td>6.8714</td>\n",
              "    </tr>\n",
              "    <tr>\n",
              "      <th>3</th>\n",
              "      <td>Standard Class</td>\n",
              "      <td>Consumer</td>\n",
              "      <td>United States</td>\n",
              "      <td>Fort Lauderdale</td>\n",
              "      <td>Florida</td>\n",
              "      <td>33311</td>\n",
              "      <td>South</td>\n",
              "      <td>Furniture</td>\n",
              "      <td>Tables</td>\n",
              "      <td>957.5775</td>\n",
              "      <td>5</td>\n",
              "      <td>0.45</td>\n",
              "      <td>-383.0310</td>\n",
              "    </tr>\n",
              "    <tr>\n",
              "      <th>4</th>\n",
              "      <td>Standard Class</td>\n",
              "      <td>Consumer</td>\n",
              "      <td>United States</td>\n",
              "      <td>Fort Lauderdale</td>\n",
              "      <td>Florida</td>\n",
              "      <td>33311</td>\n",
              "      <td>South</td>\n",
              "      <td>Office Supplies</td>\n",
              "      <td>Storage</td>\n",
              "      <td>22.3680</td>\n",
              "      <td>2</td>\n",
              "      <td>0.20</td>\n",
              "      <td>2.5164</td>\n",
              "    </tr>\n",
              "  </tbody>\n",
              "</table>\n",
              "</div>"
            ],
            "text/plain": [
              "        Ship Mode    Segment        Country  ... Quantity Discount    Profit\n",
              "0    Second Class   Consumer  United States  ...        2     0.00   41.9136\n",
              "1    Second Class   Consumer  United States  ...        3     0.00  219.5820\n",
              "2    Second Class  Corporate  United States  ...        2     0.00    6.8714\n",
              "3  Standard Class   Consumer  United States  ...        5     0.45 -383.0310\n",
              "4  Standard Class   Consumer  United States  ...        2     0.20    2.5164\n",
              "\n",
              "[5 rows x 13 columns]"
            ]
          },
          "metadata": {
            "tags": []
          },
          "execution_count": 3
        }
      ]
    },
    {
      "cell_type": "code",
      "metadata": {
        "id": "G_G-fBNa-Ox8",
        "colab": {
          "base_uri": "https://localhost:8080/",
          "height": 203
        },
        "outputId": "d0c22109-171d-425a-d2b6-ac642c3a816e"
      },
      "source": [
        "#Displaying Bottom 5 Rows\n",
        "df.tail()"
      ],
      "execution_count": 4,
      "outputs": [
        {
          "output_type": "execute_result",
          "data": {
            "text/html": [
              "<div>\n",
              "<style scoped>\n",
              "    .dataframe tbody tr th:only-of-type {\n",
              "        vertical-align: middle;\n",
              "    }\n",
              "\n",
              "    .dataframe tbody tr th {\n",
              "        vertical-align: top;\n",
              "    }\n",
              "\n",
              "    .dataframe thead th {\n",
              "        text-align: right;\n",
              "    }\n",
              "</style>\n",
              "<table border=\"1\" class=\"dataframe\">\n",
              "  <thead>\n",
              "    <tr style=\"text-align: right;\">\n",
              "      <th></th>\n",
              "      <th>Ship Mode</th>\n",
              "      <th>Segment</th>\n",
              "      <th>Country</th>\n",
              "      <th>City</th>\n",
              "      <th>State</th>\n",
              "      <th>Postal Code</th>\n",
              "      <th>Region</th>\n",
              "      <th>Category</th>\n",
              "      <th>Sub-Category</th>\n",
              "      <th>Sales</th>\n",
              "      <th>Quantity</th>\n",
              "      <th>Discount</th>\n",
              "      <th>Profit</th>\n",
              "    </tr>\n",
              "  </thead>\n",
              "  <tbody>\n",
              "    <tr>\n",
              "      <th>9989</th>\n",
              "      <td>Second Class</td>\n",
              "      <td>Consumer</td>\n",
              "      <td>United States</td>\n",
              "      <td>Miami</td>\n",
              "      <td>Florida</td>\n",
              "      <td>33180</td>\n",
              "      <td>South</td>\n",
              "      <td>Furniture</td>\n",
              "      <td>Furnishings</td>\n",
              "      <td>25.248</td>\n",
              "      <td>3</td>\n",
              "      <td>0.2</td>\n",
              "      <td>4.1028</td>\n",
              "    </tr>\n",
              "    <tr>\n",
              "      <th>9990</th>\n",
              "      <td>Standard Class</td>\n",
              "      <td>Consumer</td>\n",
              "      <td>United States</td>\n",
              "      <td>Costa Mesa</td>\n",
              "      <td>California</td>\n",
              "      <td>92627</td>\n",
              "      <td>West</td>\n",
              "      <td>Furniture</td>\n",
              "      <td>Furnishings</td>\n",
              "      <td>91.960</td>\n",
              "      <td>2</td>\n",
              "      <td>0.0</td>\n",
              "      <td>15.6332</td>\n",
              "    </tr>\n",
              "    <tr>\n",
              "      <th>9991</th>\n",
              "      <td>Standard Class</td>\n",
              "      <td>Consumer</td>\n",
              "      <td>United States</td>\n",
              "      <td>Costa Mesa</td>\n",
              "      <td>California</td>\n",
              "      <td>92627</td>\n",
              "      <td>West</td>\n",
              "      <td>Technology</td>\n",
              "      <td>Phones</td>\n",
              "      <td>258.576</td>\n",
              "      <td>2</td>\n",
              "      <td>0.2</td>\n",
              "      <td>19.3932</td>\n",
              "    </tr>\n",
              "    <tr>\n",
              "      <th>9992</th>\n",
              "      <td>Standard Class</td>\n",
              "      <td>Consumer</td>\n",
              "      <td>United States</td>\n",
              "      <td>Costa Mesa</td>\n",
              "      <td>California</td>\n",
              "      <td>92627</td>\n",
              "      <td>West</td>\n",
              "      <td>Office Supplies</td>\n",
              "      <td>Paper</td>\n",
              "      <td>29.600</td>\n",
              "      <td>4</td>\n",
              "      <td>0.0</td>\n",
              "      <td>13.3200</td>\n",
              "    </tr>\n",
              "    <tr>\n",
              "      <th>9993</th>\n",
              "      <td>Second Class</td>\n",
              "      <td>Consumer</td>\n",
              "      <td>United States</td>\n",
              "      <td>Westminster</td>\n",
              "      <td>California</td>\n",
              "      <td>92683</td>\n",
              "      <td>West</td>\n",
              "      <td>Office Supplies</td>\n",
              "      <td>Appliances</td>\n",
              "      <td>243.160</td>\n",
              "      <td>2</td>\n",
              "      <td>0.0</td>\n",
              "      <td>72.9480</td>\n",
              "    </tr>\n",
              "  </tbody>\n",
              "</table>\n",
              "</div>"
            ],
            "text/plain": [
              "           Ship Mode   Segment        Country  ... Quantity Discount   Profit\n",
              "9989    Second Class  Consumer  United States  ...        3      0.2   4.1028\n",
              "9990  Standard Class  Consumer  United States  ...        2      0.0  15.6332\n",
              "9991  Standard Class  Consumer  United States  ...        2      0.2  19.3932\n",
              "9992  Standard Class  Consumer  United States  ...        4      0.0  13.3200\n",
              "9993    Second Class  Consumer  United States  ...        2      0.0  72.9480\n",
              "\n",
              "[5 rows x 13 columns]"
            ]
          },
          "metadata": {
            "tags": []
          },
          "execution_count": 4
        }
      ]
    },
    {
      "cell_type": "code",
      "metadata": {
        "id": "Q2gEekXf-Y5i",
        "colab": {
          "base_uri": "https://localhost:8080/"
        },
        "outputId": "f95b8105-5e80-441d-aa79-52d4e629b47b"
      },
      "source": [
        "df.shape"
      ],
      "execution_count": 5,
      "outputs": [
        {
          "output_type": "execute_result",
          "data": {
            "text/plain": [
              "(9994, 13)"
            ]
          },
          "metadata": {
            "tags": []
          },
          "execution_count": 5
        }
      ]
    },
    {
      "cell_type": "code",
      "metadata": {
        "id": "UCEbMZoQ-cg_",
        "colab": {
          "base_uri": "https://localhost:8080/",
          "height": 295
        },
        "outputId": "3fadd87f-9171-441a-fe99-a2e9e6b8ec96"
      },
      "source": [
        "#describing the dataset\n",
        "df.describe()"
      ],
      "execution_count": 6,
      "outputs": [
        {
          "output_type": "execute_result",
          "data": {
            "text/html": [
              "<div>\n",
              "<style scoped>\n",
              "    .dataframe tbody tr th:only-of-type {\n",
              "        vertical-align: middle;\n",
              "    }\n",
              "\n",
              "    .dataframe tbody tr th {\n",
              "        vertical-align: top;\n",
              "    }\n",
              "\n",
              "    .dataframe thead th {\n",
              "        text-align: right;\n",
              "    }\n",
              "</style>\n",
              "<table border=\"1\" class=\"dataframe\">\n",
              "  <thead>\n",
              "    <tr style=\"text-align: right;\">\n",
              "      <th></th>\n",
              "      <th>Postal Code</th>\n",
              "      <th>Sales</th>\n",
              "      <th>Quantity</th>\n",
              "      <th>Discount</th>\n",
              "      <th>Profit</th>\n",
              "    </tr>\n",
              "  </thead>\n",
              "  <tbody>\n",
              "    <tr>\n",
              "      <th>count</th>\n",
              "      <td>9994.000000</td>\n",
              "      <td>9994.000000</td>\n",
              "      <td>9994.000000</td>\n",
              "      <td>9994.000000</td>\n",
              "      <td>9994.000000</td>\n",
              "    </tr>\n",
              "    <tr>\n",
              "      <th>mean</th>\n",
              "      <td>55190.379428</td>\n",
              "      <td>229.858001</td>\n",
              "      <td>3.789574</td>\n",
              "      <td>0.156203</td>\n",
              "      <td>28.656896</td>\n",
              "    </tr>\n",
              "    <tr>\n",
              "      <th>std</th>\n",
              "      <td>32063.693350</td>\n",
              "      <td>623.245101</td>\n",
              "      <td>2.225110</td>\n",
              "      <td>0.206452</td>\n",
              "      <td>234.260108</td>\n",
              "    </tr>\n",
              "    <tr>\n",
              "      <th>min</th>\n",
              "      <td>1040.000000</td>\n",
              "      <td>0.444000</td>\n",
              "      <td>1.000000</td>\n",
              "      <td>0.000000</td>\n",
              "      <td>-6599.978000</td>\n",
              "    </tr>\n",
              "    <tr>\n",
              "      <th>25%</th>\n",
              "      <td>23223.000000</td>\n",
              "      <td>17.280000</td>\n",
              "      <td>2.000000</td>\n",
              "      <td>0.000000</td>\n",
              "      <td>1.728750</td>\n",
              "    </tr>\n",
              "    <tr>\n",
              "      <th>50%</th>\n",
              "      <td>56430.500000</td>\n",
              "      <td>54.490000</td>\n",
              "      <td>3.000000</td>\n",
              "      <td>0.200000</td>\n",
              "      <td>8.666500</td>\n",
              "    </tr>\n",
              "    <tr>\n",
              "      <th>75%</th>\n",
              "      <td>90008.000000</td>\n",
              "      <td>209.940000</td>\n",
              "      <td>5.000000</td>\n",
              "      <td>0.200000</td>\n",
              "      <td>29.364000</td>\n",
              "    </tr>\n",
              "    <tr>\n",
              "      <th>max</th>\n",
              "      <td>99301.000000</td>\n",
              "      <td>22638.480000</td>\n",
              "      <td>14.000000</td>\n",
              "      <td>0.800000</td>\n",
              "      <td>8399.976000</td>\n",
              "    </tr>\n",
              "  </tbody>\n",
              "</table>\n",
              "</div>"
            ],
            "text/plain": [
              "        Postal Code         Sales     Quantity     Discount       Profit\n",
              "count   9994.000000   9994.000000  9994.000000  9994.000000  9994.000000\n",
              "mean   55190.379428    229.858001     3.789574     0.156203    28.656896\n",
              "std    32063.693350    623.245101     2.225110     0.206452   234.260108\n",
              "min     1040.000000      0.444000     1.000000     0.000000 -6599.978000\n",
              "25%    23223.000000     17.280000     2.000000     0.000000     1.728750\n",
              "50%    56430.500000     54.490000     3.000000     0.200000     8.666500\n",
              "75%    90008.000000    209.940000     5.000000     0.200000    29.364000\n",
              "max    99301.000000  22638.480000    14.000000     0.800000  8399.976000"
            ]
          },
          "metadata": {
            "tags": []
          },
          "execution_count": 6
        }
      ]
    },
    {
      "cell_type": "code",
      "metadata": {
        "id": "1ynHQSfc-hW8",
        "colab": {
          "base_uri": "https://localhost:8080/"
        },
        "outputId": "4b048af7-dd5f-49e5-8a12-871ec1dbf7b0"
      },
      "source": [
        "#checking null values\n",
        "df.isnull().sum()"
      ],
      "execution_count": 7,
      "outputs": [
        {
          "output_type": "execute_result",
          "data": {
            "text/plain": [
              "Ship Mode       0\n",
              "Segment         0\n",
              "Country         0\n",
              "City            0\n",
              "State           0\n",
              "Postal Code     0\n",
              "Region          0\n",
              "Category        0\n",
              "Sub-Category    0\n",
              "Sales           0\n",
              "Quantity        0\n",
              "Discount        0\n",
              "Profit          0\n",
              "dtype: int64"
            ]
          },
          "metadata": {
            "tags": []
          },
          "execution_count": 7
        }
      ]
    },
    {
      "cell_type": "code",
      "metadata": {
        "id": "jaQYpE0n-lUm",
        "colab": {
          "base_uri": "https://localhost:8080/"
        },
        "outputId": "967dda28-3a74-4938-8a2c-4d2dc3720b8b"
      },
      "source": [
        "#To gain information about dataset\n",
        "df.info()"
      ],
      "execution_count": 8,
      "outputs": [
        {
          "output_type": "stream",
          "text": [
            "<class 'pandas.core.frame.DataFrame'>\n",
            "RangeIndex: 9994 entries, 0 to 9993\n",
            "Data columns (total 13 columns):\n",
            " #   Column        Non-Null Count  Dtype  \n",
            "---  ------        --------------  -----  \n",
            " 0   Ship Mode     9994 non-null   object \n",
            " 1   Segment       9994 non-null   object \n",
            " 2   Country       9994 non-null   object \n",
            " 3   City          9994 non-null   object \n",
            " 4   State         9994 non-null   object \n",
            " 5   Postal Code   9994 non-null   int64  \n",
            " 6   Region        9994 non-null   object \n",
            " 7   Category      9994 non-null   object \n",
            " 8   Sub-Category  9994 non-null   object \n",
            " 9   Sales         9994 non-null   float64\n",
            " 10  Quantity      9994 non-null   int64  \n",
            " 11  Discount      9994 non-null   float64\n",
            " 12  Profit        9994 non-null   float64\n",
            "dtypes: float64(3), int64(2), object(8)\n",
            "memory usage: 1015.1+ KB\n"
          ],
          "name": "stdout"
        }
      ]
    },
    {
      "cell_type": "code",
      "metadata": {
        "id": "8B3WDQF--pAd",
        "colab": {
          "base_uri": "https://localhost:8080/"
        },
        "outputId": "5c83d448-a20d-4a6b-eb5c-ab2d860d804f"
      },
      "source": [
        "#To see the columns of the dataset\n",
        "df.columns"
      ],
      "execution_count": 9,
      "outputs": [
        {
          "output_type": "execute_result",
          "data": {
            "text/plain": [
              "Index(['Ship Mode', 'Segment', 'Country', 'City', 'State', 'Postal Code',\n",
              "       'Region', 'Category', 'Sub-Category', 'Sales', 'Quantity', 'Discount',\n",
              "       'Profit'],\n",
              "      dtype='object')"
            ]
          },
          "metadata": {
            "tags": []
          },
          "execution_count": 9
        }
      ]
    },
    {
      "cell_type": "code",
      "metadata": {
        "id": "dqh880XZ-stN",
        "colab": {
          "base_uri": "https://localhost:8080/"
        },
        "outputId": "1a130ac6-1340-41d5-cf11-4bcb8a749b0a"
      },
      "source": [
        "#Analyzing duplicate values and adding them up\n",
        "df.duplicated().sum()"
      ],
      "execution_count": 10,
      "outputs": [
        {
          "output_type": "execute_result",
          "data": {
            "text/plain": [
              "17"
            ]
          },
          "metadata": {
            "tags": []
          },
          "execution_count": 10
        }
      ]
    },
    {
      "cell_type": "code",
      "metadata": {
        "id": "K7U0WgLk-vvO",
        "colab": {
          "base_uri": "https://localhost:8080/"
        },
        "outputId": "c1b1dc9f-cc0a-4d45-ae73-321b169c434e"
      },
      "source": [
        "#Return number of unique elements in the object\n",
        "df.nunique()"
      ],
      "execution_count": 11,
      "outputs": [
        {
          "output_type": "execute_result",
          "data": {
            "text/plain": [
              "Ship Mode          4\n",
              "Segment            3\n",
              "Country            1\n",
              "City             531\n",
              "State             49\n",
              "Postal Code      631\n",
              "Region             4\n",
              "Category           3\n",
              "Sub-Category      17\n",
              "Sales           5825\n",
              "Quantity          14\n",
              "Discount          12\n",
              "Profit          7287\n",
              "dtype: int64"
            ]
          },
          "metadata": {
            "tags": []
          },
          "execution_count": 11
        }
      ]
    },
    {
      "cell_type": "code",
      "metadata": {
        "id": "8ONR2Ke5-3h9",
        "colab": {
          "base_uri": "https://localhost:8080/"
        },
        "outputId": "a1eb662c-b49c-4f11-ca6e-62a1408bbd67"
      },
      "source": [
        "#Return DataFrame with duplicate rows removed and keeping the first data\n",
        "df.drop_duplicates(subset=None,keep='first',inplace=True)\n",
        "df.duplicated().sum()"
      ],
      "execution_count": 13,
      "outputs": [
        {
          "output_type": "execute_result",
          "data": {
            "text/plain": [
              "0"
            ]
          },
          "metadata": {
            "tags": []
          },
          "execution_count": 13
        }
      ]
    },
    {
      "cell_type": "code",
      "metadata": {
        "id": "hGIcS9wa_keH",
        "colab": {
          "base_uri": "https://localhost:8080/"
        },
        "outputId": "4dccab74-f650-465d-d800-9e21ef93ee2e"
      },
      "source": [
        "#Counts the no of rows each feature has\n",
        "df['Country'].value_counts()"
      ],
      "execution_count": 15,
      "outputs": [
        {
          "output_type": "execute_result",
          "data": {
            "text/plain": [
              "United States    9944\n",
              "Name: Country, dtype: int64"
            ]
          },
          "metadata": {
            "tags": []
          },
          "execution_count": 15
        }
      ]
    },
    {
      "cell_type": "code",
      "metadata": {
        "id": "0NCf2S7F_qLG",
        "colab": {
          "base_uri": "https://localhost:8080/",
          "height": 296
        },
        "outputId": "f9bce86d-8413-447e-f9a8-6819d6fc9fc3"
      },
      "source": [
        "sns.countplot(x=df['Country'])"
      ],
      "execution_count": 16,
      "outputs": [
        {
          "output_type": "execute_result",
          "data": {
            "text/plain": [
              "<matplotlib.axes._subplots.AxesSubplot at 0x7f94f1d8fa10>"
            ]
          },
          "metadata": {
            "tags": []
          },
          "execution_count": 16
        },
        {
          "output_type": "display_data",
          "data": {
            "image/png": "[encoded data removed]",
            "text/plain": [
              "<Figure size 432x288 with 1 Axes>"
            ]
          },
          "metadata": {
            "tags": [],
            "needs_background": "light"
          }
        }
      ]
    },
    {
      "cell_type": "code",
      "metadata": {
        "id": "SybhcG1jB_BK"
      },
      "source": [
        "#Calculating Cost \n",
        "df['Cost']=df['Sales']-df['Profit']\n",
        "\n",
        "#Calculating Profit%\n",
        "df['Profit%']=(df['Profit']/df['Cost'])*100"
      ],
      "execution_count": 17,
      "outputs": []
    },
    {
      "cell_type": "code",
      "metadata": {
        "id": "plnbuaOhCMQy",
        "colab": {
          "base_uri": "https://localhost:8080/",
          "height": 203
        },
        "outputId": "246ae8f3-d136-4d69-efc0-2b56b6b17017"
      },
      "source": [
        "df.head()"
      ],
      "execution_count": 18,
      "outputs": [
        {
          "output_type": "execute_result",
          "data": {
            "text/html": [
              "<div>\n",
              "<style scoped>\n",
              "    .dataframe tbody tr th:only-of-type {\n",
              "        vertical-align: middle;\n",
              "    }\n",
              "\n",
              "    .dataframe tbody tr th {\n",
              "        vertical-align: top;\n",
              "    }\n",
              "\n",
              "    .dataframe thead th {\n",
              "        text-align: right;\n",
              "    }\n",
              "</style>\n",
              "<table border=\"1\" class=\"dataframe\">\n",
              "  <thead>\n",
              "    <tr style=\"text-align: right;\">\n",
              "      <th></th>\n",
              "      <th>Ship Mode</th>\n",
              "      <th>Segment</th>\n",
              "      <th>Country</th>\n",
              "      <th>City</th>\n",
              "      <th>State</th>\n",
              "      <th>Region</th>\n",
              "      <th>Category</th>\n",
              "      <th>Sub-Category</th>\n",
              "      <th>Sales</th>\n",
              "      <th>Quantity</th>\n",
              "      <th>Discount</th>\n",
              "      <th>Profit</th>\n",
              "      <th>Cost</th>\n",
              "      <th>Profit%</th>\n",
              "    </tr>\n",
              "  </thead>\n",
              "  <tbody>\n",
              "    <tr>\n",
              "      <th>0</th>\n",
              "      <td>Second Class</td>\n",
              "      <td>Consumer</td>\n",
              "      <td>United States</td>\n",
              "      <td>Henderson</td>\n",
              "      <td>Kentucky</td>\n",
              "      <td>South</td>\n",
              "      <td>Furniture</td>\n",
              "      <td>Bookcases</td>\n",
              "      <td>261.9600</td>\n",
              "      <td>2</td>\n",
              "      <td>0.00</td>\n",
              "      <td>41.9136</td>\n",
              "      <td>220.0464</td>\n",
              "      <td>19.047619</td>\n",
              "    </tr>\n",
              "    <tr>\n",
              "      <th>1</th>\n",
              "      <td>Second Class</td>\n",
              "      <td>Consumer</td>\n",
              "      <td>United States</td>\n",
              "      <td>Henderson</td>\n",
              "      <td>Kentucky</td>\n",
              "      <td>South</td>\n",
              "      <td>Furniture</td>\n",
              "      <td>Chairs</td>\n",
              "      <td>731.9400</td>\n",
              "      <td>3</td>\n",
              "      <td>0.00</td>\n",
              "      <td>219.5820</td>\n",
              "      <td>512.3580</td>\n",
              "      <td>42.857143</td>\n",
              "    </tr>\n",
              "    <tr>\n",
              "      <th>2</th>\n",
              "      <td>Second Class</td>\n",
              "      <td>Corporate</td>\n",
              "      <td>United States</td>\n",
              "      <td>Los Angeles</td>\n",
              "      <td>California</td>\n",
              "      <td>West</td>\n",
              "      <td>Office Supplies</td>\n",
              "      <td>Labels</td>\n",
              "      <td>14.6200</td>\n",
              "      <td>2</td>\n",
              "      <td>0.00</td>\n",
              "      <td>6.8714</td>\n",
              "      <td>7.7486</td>\n",
              "      <td>88.679245</td>\n",
              "    </tr>\n",
              "    <tr>\n",
              "      <th>3</th>\n",
              "      <td>Standard Class</td>\n",
              "      <td>Consumer</td>\n",
              "      <td>United States</td>\n",
              "      <td>Fort Lauderdale</td>\n",
              "      <td>Florida</td>\n",
              "      <td>South</td>\n",
              "      <td>Furniture</td>\n",
              "      <td>Tables</td>\n",
              "      <td>957.5775</td>\n",
              "      <td>5</td>\n",
              "      <td>0.45</td>\n",
              "      <td>-383.0310</td>\n",
              "      <td>1340.6085</td>\n",
              "      <td>-28.571429</td>\n",
              "    </tr>\n",
              "    <tr>\n",
              "      <th>4</th>\n",
              "      <td>Standard Class</td>\n",
              "      <td>Consumer</td>\n",
              "      <td>United States</td>\n",
              "      <td>Fort Lauderdale</td>\n",
              "      <td>Florida</td>\n",
              "      <td>South</td>\n",
              "      <td>Office Supplies</td>\n",
              "      <td>Storage</td>\n",
              "      <td>22.3680</td>\n",
              "      <td>2</td>\n",
              "      <td>0.20</td>\n",
              "      <td>2.5164</td>\n",
              "      <td>19.8516</td>\n",
              "      <td>12.676056</td>\n",
              "    </tr>\n",
              "  </tbody>\n",
              "</table>\n",
              "</div>"
            ],
            "text/plain": [
              "        Ship Mode    Segment        Country  ...    Profit       Cost    Profit%\n",
              "0    Second Class   Consumer  United States  ...   41.9136   220.0464  19.047619\n",
              "1    Second Class   Consumer  United States  ...  219.5820   512.3580  42.857143\n",
              "2    Second Class  Corporate  United States  ...    6.8714     7.7486  88.679245\n",
              "3  Standard Class   Consumer  United States  ... -383.0310  1340.6085 -28.571429\n",
              "4  Standard Class   Consumer  United States  ...    2.5164    19.8516  12.676056\n",
              "\n",
              "[5 rows x 14 columns]"
            ]
          },
          "metadata": {
            "tags": []
          },
          "execution_count": 18
        }
      ]
    },
    {
      "cell_type": "markdown",
      "metadata": {
        "id": "72PhkPgwDZVs"
      },
      "source": [
        "**MULTIVARIATE VISUALIZATIONS**"
      ]
    },
    {
      "cell_type": "code",
      "metadata": {
        "id": "x2wPQtb5C-17",
        "colab": {
          "base_uri": "https://localhost:8080/",
          "height": 298
        },
        "outputId": "7fc12155-adbe-4e9b-c99c-5d8a0a732971"
      },
      "source": [
        "# correlation matrix and heatmap\n",
        "dfcorr = df.corr()\n",
        "sns.heatmap(dfcorr, annot=True, cmap='RdYlGn')\n",
        "plt.title('Correlation between the variables')"
      ],
      "execution_count": 19,
      "outputs": [
        {
          "output_type": "execute_result",
          "data": {
            "text/plain": [
              "Text(0.5, 1.0, 'Correlation between the variables')"
            ]
          },
          "metadata": {
            "tags": []
          },
          "execution_count": 19
        },
        {
          "output_type": "display_data",
          "data": {
            "image/png": "[encoded data removed]",
            "text/plain": [
              "<Figure size 432x288 with 2 Axes>"
            ]
          },
          "metadata": {
            "tags": [],
            "needs_background": "light"
          }
        }
      ]
    },
    {
      "cell_type": "markdown",
      "metadata": {
        "id": "z_ibjfwzDqIA"
      },
      "source": [
        "**Finding modes of shipping products and observing which is more preferred mode of shipping?**"
      ]
    },
    {
      "cell_type": "code",
      "metadata": {
        "id": "RkFTGwEqBIpK",
        "colab": {
          "base_uri": "https://localhost:8080/"
        },
        "outputId": "0a356257-13f5-4b07-d471-6c08b39a4e6e"
      },
      "source": [
        "shipmodetypes = df.groupby('Ship Mode')\n",
        "for i,dg in shipmodetypes:\n",
        "    print(i)"
      ],
      "execution_count": 20,
      "outputs": [
        {
          "output_type": "stream",
          "text": [
            "First Class\n",
            "Same Day\n",
            "Second Class\n",
            "Standard Class\n"
          ],
          "name": "stdout"
        }
      ]
    },
    {
      "cell_type": "code",
      "metadata": {
        "id": "wyNTNn6XDltN",
        "colab": {
          "base_uri": "https://localhost:8080/"
        },
        "outputId": "2bb15623-b49f-43df-8eff-c3e8fefea6bc"
      },
      "source": [
        "df.groupby('Ship Mode').groups"
      ],
      "execution_count": 21,
      "outputs": [
        {
          "output_type": "execute_result",
          "data": {
            "text/plain": [
              "{'First Class': [35, 36, 44, 45, 55, 56, 57, 58, 59, 60, 61, 69, 75, 76, 77, 79, 80, 84, 97, 119, 120, 121, 122, 123, 130, 131, 132, 151, 152, 153, 154, 155, 160, 189, 190, 191, 192, 193, 201, 202, 219, 220, 221, 222, 223, 224, 252, 253, 271, 272, 273, 274, 275, 293, 294, 295, 296, 297, 308, 316, 326, 327, 328, 329, 330, 349, 350, 351, 352, 353, 359, 360, 376, 381, 382, 388, 402, 421, 427, 433, 484, 485, 486, 487, 510, 511, 512, 522, 523, 524, 540, 541, 546, 547, 552, 563, 564, 565, 598, 610, ...], 'Same Day': [366, 367, 368, 369, 657, 658, 664, 683, 684, 746, 747, 792, 813, 814, 882, 959, 987, 1001, 1002, 1003, 1086, 1135, 1146, 1147, 1148, 1149, 1150, 1166, 1193, 1194, 1195, 1196, 1234, 1235, 1236, 1237, 1273, 1274, 1275, 1276, 1355, 1356, 1382, 1383, 1384, 1385, 1386, 1387, 1388, 1389, 1390, 1391, 1392, 1437, 1438, 1459, 1467, 1473, 1508, 1562, 1563, 1564, 1568, 1593, 1630, 1631, 1632, 1633, 1634, 1650, 1651, 1704, 1728, 1729, 1815, 1816, 1830, 1831, 1847, 1848, 1862, 1865, 1880, 1881, 1882, 1979, 1980, 2011, 2012, 2102, 2106, 2107, 2108, 2109, 2110, 2111, 2112, 2113, 2114, 2115, ...], 'Second Class': [0, 1, 2, 17, 18, 19, 20, 23, 25, 26, 34, 46, 71, 78, 85, 88, 92, 93, 94, 96, 102, 113, 114, 115, 116, 124, 128, 129, 140, 157, 161, 176, 177, 178, 180, 181, 182, 183, 184, 203, 211, 237, 238, 239, 240, 241, 242, 243, 244, 245, 246, 247, 248, 249, 258, 259, 260, 262, 263, 270, 280, 281, 286, 287, 288, 289, 290, 291, 292, 304, 309, 310, 311, 312, 325, 331, 332, 333, 334, 335, 336, 339, 340, 341, 342, 343, 383, 391, 392, 393, 395, 396, 398, 399, 400, 401, 424, 425, 426, 436, ...], 'Standard Class': [3, 4, 5, 6, 7, 8, 9, 10, 11, 12, 13, 14, 15, 16, 21, 22, 24, 27, 28, 29, 30, 31, 32, 33, 37, 38, 39, 40, 41, 42, 43, 47, 48, 49, 50, 51, 52, 53, 54, 62, 63, 64, 65, 66, 67, 68, 70, 72, 73, 74, 81, 82, 83, 86, 87, 89, 90, 91, 95, 98, 99, 100, 101, 103, 104, 105, 106, 107, 108, 109, 110, 111, 112, 117, 118, 125, 126, 127, 133, 134, 135, 136, 137, 138, 139, 141, 142, 143, 144, 145, 146, 147, 148, 149, 150, 156, 158, 159, 162, 163, ...]}"
            ]
          },
          "metadata": {
            "tags": []
          },
          "execution_count": 21
        }
      ]
    },
    {
      "cell_type": "code",
      "metadata": {
        "id": "-XfXO1GzEFwq",
        "colab": {
          "base_uri": "https://localhost:8080/"
        },
        "outputId": "c64526dc-f2c0-4a23-c1cd-b1548aa52a07"
      },
      "source": [
        "df['Ship Mode'].value_counts()"
      ],
      "execution_count": 22,
      "outputs": [
        {
          "output_type": "execute_result",
          "data": {
            "text/plain": [
              "Standard Class    5930\n",
              "Second Class      1941\n",
              "First Class       1531\n",
              "Same Day           542\n",
              "Name: Ship Mode, dtype: int64"
            ]
          },
          "metadata": {
            "tags": []
          },
          "execution_count": 22
        }
      ]
    },
    {
      "cell_type": "code",
      "metadata": {
        "id": "kOU0-fjWEK6c",
        "colab": {
          "base_uri": "https://localhost:8080/",
          "height": 312
        },
        "outputId": "62005493-137e-433b-fd95-8de934137bb5"
      },
      "source": [
        "sns.histplot(x=df['Ship Mode'], color='g')\n",
        "plt.title('Ship Mode Preference')"
      ],
      "execution_count": 23,
      "outputs": [
        {
          "output_type": "execute_result",
          "data": {
            "text/plain": [
              "Text(0.5, 1.0, 'Ship Mode Preference')"
            ]
          },
          "metadata": {
            "tags": []
          },
          "execution_count": 23
        },
        {
          "output_type": "display_data",
          "data": {
            "image/png": "[encoded data removed]",
            "text/plain": [
              "<Figure size 432x288 with 1 Axes>"
            ]
          },
          "metadata": {
            "tags": [],
            "needs_background": "light"
          }
        }
      ]
    },
    {
      "cell_type": "markdown",
      "metadata": {
        "id": "hqQfn3VGEQ0K"
      },
      "source": [
        "# **CUSTOMER SEGMENTS**"
      ]
    },
    {
      "cell_type": "code",
      "metadata": {
        "id": "8aLfuzOEEYRV",
        "colab": {
          "base_uri": "https://localhost:8080/"
        },
        "outputId": "56fdafe5-d930-4e1a-b4fe-57c607df992e"
      },
      "source": [
        "segmenttypes = df.groupby('Segment')\n",
        "for i,dg in segmenttypes:\n",
        "    print(i)"
      ],
      "execution_count": 24,
      "outputs": [
        {
          "output_type": "stream",
          "text": [
            "Consumer\n",
            "Corporate\n",
            "Home Office\n"
          ],
          "name": "stdout"
        }
      ]
    },
    {
      "cell_type": "code",
      "metadata": {
        "id": "PSuDKE-xEhjB",
        "colab": {
          "base_uri": "https://localhost:8080/"
        },
        "outputId": "18796eaf-2240-49eb-cc4d-18ebebbfa0c4"
      },
      "source": [
        "df['Segment'].value_counts()"
      ],
      "execution_count": 25,
      "outputs": [
        {
          "output_type": "execute_result",
          "data": {
            "text/plain": [
              "Consumer       5160\n",
              "Corporate      3008\n",
              "Home Office    1776\n",
              "Name: Segment, dtype: int64"
            ]
          },
          "metadata": {
            "tags": []
          },
          "execution_count": 25
        }
      ]
    },
    {
      "cell_type": "code",
      "metadata": {
        "id": "m_fyZItXEmxS",
        "colab": {
          "base_uri": "https://localhost:8080/",
          "height": 312
        },
        "outputId": "178693a7-218c-4b83-c5ad-07fa7aba04b8"
      },
      "source": [
        "sns.histplot(x=df['Segment'])\n",
        "plt.title('CUSTOMER SEGMENTS')"
      ],
      "execution_count": 26,
      "outputs": [
        {
          "output_type": "execute_result",
          "data": {
            "text/plain": [
              "Text(0.5, 1.0, 'CUSTOMER SEGMENTS')"
            ]
          },
          "metadata": {
            "tags": []
          },
          "execution_count": 26
        },
        {
          "output_type": "display_data",
          "data": {
            "image/png": "[encoded data removed]",
            "text/plain": [
              "<Figure size 432x288 with 1 Axes>"
            ]
          },
          "metadata": {
            "tags": [],
            "needs_background": "light"
          }
        }
      ]
    },
    {
      "cell_type": "markdown",
      "metadata": {
        "id": "_iKCpUdgE4B0"
      },
      "source": [
        "# **ANALYSIS BASED ON CATEGORY**"
      ]
    },
    {
      "cell_type": "code",
      "metadata": {
        "id": "b-bE8VblFCAt",
        "colab": {
          "base_uri": "https://localhost:8080/"
        },
        "outputId": "6cb4b6fd-9fda-4a4f-c81f-d12b9fa6eac9"
      },
      "source": [
        "cat = df.groupby('Category')\n",
        "for i,dg in cat:\n",
        "    print(i)"
      ],
      "execution_count": 27,
      "outputs": [
        {
          "output_type": "stream",
          "text": [
            "Furniture\n",
            "Office Supplies\n",
            "Technology\n"
          ],
          "name": "stdout"
        }
      ]
    },
    {
      "cell_type": "code",
      "metadata": {
        "id": "FelkbieVFMfl",
        "colab": {
          "base_uri": "https://localhost:8080/",
          "height": 312
        },
        "outputId": "04b7504a-1c73-47bd-d89f-3f089e12ec3a"
      },
      "source": [
        "sns.countplot(x=df['Category'])\n",
        "plt.title('CATEGORY OF PRODUCTS')"
      ],
      "execution_count": 28,
      "outputs": [
        {
          "output_type": "execute_result",
          "data": {
            "text/plain": [
              "Text(0.5, 1.0, 'CATEGORY OF PRODUCTS')"
            ]
          },
          "metadata": {
            "tags": []
          },
          "execution_count": 28
        },
        {
          "output_type": "display_data",
          "data": {
            "image/png": "[encoded data removed]",
            "text/plain": [
              "<Figure size 432x288 with 1 Axes>"
            ]
          },
          "metadata": {
            "tags": [],
            "needs_background": "light"
          }
        }
      ]
    },
    {
      "cell_type": "code",
      "metadata": {
        "id": "E1Si_pboFaOW",
        "colab": {
          "base_uri": "https://localhost:8080/",
          "height": 312
        },
        "outputId": "864b6dc3-aae9-414b-dd00-b2ef3bff371a"
      },
      "source": [
        "sns.countplot(x=df['Region'], hue=df['Category'])\n",
        "plt.title('Region-wise Ordered Product Categories')"
      ],
      "execution_count": 29,
      "outputs": [
        {
          "output_type": "execute_result",
          "data": {
            "text/plain": [
              "Text(0.5, 1.0, 'Region-wise Ordered Product Categories')"
            ]
          },
          "metadata": {
            "tags": []
          },
          "execution_count": 29
        },
        {
          "output_type": "display_data",
          "data": {
            "image/png": "[encoded data removed]",
            "text/plain": [
              "<Figure size 432x288 with 1 Axes>"
            ]
          },
          "metadata": {
            "tags": [],
            "needs_background": "light"
          }
        }
      ]
    },
    {
      "cell_type": "markdown",
      "metadata": {
        "id": "6Sy72QCzFjtQ"
      },
      "source": [
        "South region of the US orders less technology products and more office supplies, west orders more than any other region."
      ]
    },
    {
      "cell_type": "code",
      "metadata": {
        "id": "boNj0dzPFmLI",
        "colab": {
          "base_uri": "https://localhost:8080/",
          "height": 296
        },
        "outputId": "1cca77b9-8e7a-4944-acf2-c7ab2ec3499d"
      },
      "source": [
        "sns.scatterplot(x=df['Ship Mode'], y=df['Sales'], hue=df['Category'])"
      ],
      "execution_count": 30,
      "outputs": [
        {
          "output_type": "execute_result",
          "data": {
            "text/plain": [
              "<matplotlib.axes._subplots.AxesSubplot at 0x7f94e8c8ed90>"
            ]
          },
          "metadata": {
            "tags": []
          },
          "execution_count": 30
        },
        {
          "output_type": "display_data",
          "data": {
            "image/png": "[encoded data removed]",
            "text/plain": [
              "<Figure size 432x288 with 1 Axes>"
            ]
          },
          "metadata": {
            "tags": [],
            "needs_background": "light"
          }
        }
      ]
    },
    {
      "cell_type": "code",
      "metadata": {
        "id": "VwoiU2qjFxvI",
        "colab": {
          "base_uri": "https://localhost:8080/",
          "height": 514
        },
        "outputId": "744be87b-c3dd-4ad5-e0ed-8b0642ea318a"
      },
      "source": [
        "ds =df.groupby('Category')['Profit','Sales'].agg('sum')\n",
        "print(ds)\n",
        "ds.plot.bar()\n",
        "plt.legend(loc='upper left')\n",
        "plt.title('Category-wise Profit and Sale')"
      ],
      "execution_count": 31,
      "outputs": [
        {
          "output_type": "stream",
          "text": [
            "                      Profit        Sales\n",
            "Category                                 \n",
            "Furniture         18484.9459  740568.6663\n",
            "Office Supplies  122196.0726  718256.0700\n",
            "Technology       145416.5394  835774.6410\n"
          ],
          "name": "stdout"
        },
        {
          "output_type": "stream",
          "text": [
            "/usr/local/lib/python3.7/dist-packages/ipykernel_launcher.py:1: FutureWarning: Indexing with multiple keys (implicitly converted to a tuple of keys) will be deprecated, use a list instead.\n",
            "  \"\"\"Entry point for launching an IPython kernel.\n"
          ],
          "name": "stderr"
        },
        {
          "output_type": "execute_result",
          "data": {
            "text/plain": [
              "Text(0.5, 1.0, 'Category-wise Profit and Sale')"
            ]
          },
          "metadata": {
            "tags": []
          },
          "execution_count": 31
        },
        {
          "output_type": "display_data",
          "data": {
            "image/png": "[encoded data removed]",
            "text/plain": [
              "<Figure size 432x288 with 1 Axes>"
            ]
          },
          "metadata": {
            "tags": [],
            "needs_background": "light"
          }
        }
      ]
    },
    {
      "cell_type": "markdown",
      "metadata": {
        "id": "wZXNLbqoF8e2"
      },
      "source": [
        "# **SUB CATEGORY WISE ANALYSIS**"
      ]
    },
    {
      "cell_type": "code",
      "metadata": {
        "id": "ZoSV9WZVGDrp",
        "colab": {
          "base_uri": "https://localhost:8080/"
        },
        "outputId": "ca9df826-96dc-4aa9-d48d-e0ab9fe611ac"
      },
      "source": [
        "subcatarr = []\n",
        "subcat = df.groupby('Sub-Category')\n",
        "for i,dg in subcat:\n",
        "    print(i)\n",
        "    subcatarr.append(i)"
      ],
      "execution_count": 32,
      "outputs": [
        {
          "output_type": "stream",
          "text": [
            "Accessories\n",
            "Appliances\n",
            "Art\n",
            "Binders\n",
            "Bookcases\n",
            "Chairs\n",
            "Copiers\n",
            "Envelopes\n",
            "Fasteners\n",
            "Furnishings\n",
            "Labels\n",
            "Machines\n",
            "Paper\n",
            "Phones\n",
            "Storage\n",
            "Supplies\n",
            "Tables\n"
          ],
          "name": "stdout"
        }
      ]
    },
    {
      "cell_type": "code",
      "metadata": {
        "id": "InhWicDlGPKt",
        "colab": {
          "base_uri": "https://localhost:8080/",
          "height": 608
        },
        "outputId": "cc04e6ee-e027-4c0c-feb0-39b2d9b0bf41"
      },
      "source": [
        "plt.figure(figsize=(10,10))\n",
        "df['Sub-Category'].value_counts().plot.pie(autopct=\"%1.1f%%\")\n",
        "plt.title('Quantity of different Sub-Categories Ordered')"
      ],
      "execution_count": 33,
      "outputs": [
        {
          "output_type": "execute_result",
          "data": {
            "text/plain": [
              "Text(0.5, 1.0, 'Quantity of different Sub-Categories Ordered')"
            ]
          },
          "metadata": {
            "tags": []
          },
          "execution_count": 33
        },
        {
          "output_type": "display_data",
          "data": {
            "image/png": "[encoded data removed]",
            "text/plain": [
              "<Figure size 720x720 with 1 Axes>"
            ]
          },
          "metadata": {
            "tags": []
          }
        }
      ]
    },
    {
      "cell_type": "markdown",
      "metadata": {
        "id": "w6ZtjhGLGTtu"
      },
      "source": [
        "# **REGION WISE ANALYSIS**"
      ]
    },
    {
      "cell_type": "code",
      "metadata": {
        "id": "hIlvNUOvGX0A",
        "colab": {
          "base_uri": "https://localhost:8080/"
        },
        "outputId": "2b58b43e-7338-4c3c-9b64-2e2f11ddba0e"
      },
      "source": [
        "regions = df.groupby('Region')\n",
        "for i,dg in regions:\n",
        "    print(i)\n"
      ],
      "execution_count": 34,
      "outputs": [
        {
          "output_type": "stream",
          "text": [
            "Central\n",
            "East\n",
            "South\n",
            "West\n"
          ],
          "name": "stdout"
        }
      ]
    },
    {
      "cell_type": "code",
      "metadata": {
        "id": "Rr_TizdXGfWm",
        "colab": {
          "base_uri": "https://localhost:8080/",
          "height": 393
        },
        "outputId": "979b0d81-e9b7-4151-e182-27ac906ef729"
      },
      "source": [
        "rw =df.groupby('Region')['Profit','Sales'].agg('sum')\n",
        "rw.plot.bar()\n",
        "plt.legend(loc='upper left')\n",
        "plt.title('Region-wise Profit and Sales')"
      ],
      "execution_count": 35,
      "outputs": [
        {
          "output_type": "stream",
          "text": [
            "/usr/local/lib/python3.7/dist-packages/ipykernel_launcher.py:1: FutureWarning: Indexing with multiple keys (implicitly converted to a tuple of keys) will be deprecated, use a list instead.\n",
            "  \"\"\"Entry point for launching an IPython kernel.\n"
          ],
          "name": "stderr"
        },
        {
          "output_type": "execute_result",
          "data": {
            "text/plain": [
              "Text(0.5, 1.0, 'Region-wise Profit and Sales')"
            ]
          },
          "metadata": {
            "tags": []
          },
          "execution_count": 35
        },
        {
          "output_type": "display_data",
          "data": {
            "image/png": "[encoded data removed]",
            "text/plain": [
              "<Figure size 432x288 with 1 Axes>"
            ]
          },
          "metadata": {
            "tags": [],
            "needs_background": "light"
          }
        }
      ]
    },
    {
      "cell_type": "code",
      "metadata": {
        "id": "oio6K_ffGmMY",
        "colab": {
          "base_uri": "https://localhost:8080/",
          "height": 592
        },
        "outputId": "bd5e217a-93e4-484a-9407-aacc852db5df"
      },
      "source": [
        "plt.figure(figsize=(10,10))\n",
        "df['Region'].value_counts().plot.pie(autopct=\"%1.1f%%\")"
      ],
      "execution_count": 36,
      "outputs": [
        {
          "output_type": "execute_result",
          "data": {
            "text/plain": [
              "<matplotlib.axes._subplots.AxesSubplot at 0x7f94e706ac50>"
            ]
          },
          "metadata": {
            "tags": []
          },
          "execution_count": 36
        },
        {
          "output_type": "display_data",
          "data": {
            "image/png": "[encoded data removed]",
            "text/plain": [
              "<Figure size 720x720 with 1 Axes>"
            ]
          },
          "metadata": {
            "tags": []
          }
        }
      ]
    },
    {
      "cell_type": "markdown",
      "metadata": {
        "id": "06a-dituGrfB"
      },
      "source": [
        "# **CITY WISE ANALYSIS**"
      ]
    },
    {
      "cell_type": "code",
      "metadata": {
        "id": "OlIvZvbaGyYL"
      },
      "source": [
        "city = []\n",
        "cities = df.groupby('City')\n",
        "for i,dg in cities:\n",
        "    city.append(i)\n"
      ],
      "execution_count": 37,
      "outputs": []
    },
    {
      "cell_type": "code",
      "metadata": {
        "id": "v6U8wA8OHFUe",
        "colab": {
          "base_uri": "https://localhost:8080/"
        },
        "outputId": "b042a7cf-c3ea-4669-93df-3538077f7fcb"
      },
      "source": [
        "city"
      ],
      "execution_count": 38,
      "outputs": [
        {
          "output_type": "execute_result",
          "data": {
            "text/plain": [
              "['Aberdeen',\n",
              " 'Abilene',\n",
              " 'Akron',\n",
              " 'Albuquerque',\n",
              " 'Alexandria',\n",
              " 'Allen',\n",
              " 'Allentown',\n",
              " 'Altoona',\n",
              " 'Amarillo',\n",
              " 'Anaheim',\n",
              " 'Andover',\n",
              " 'Ann Arbor',\n",
              " 'Antioch',\n",
              " 'Apopka',\n",
              " 'Apple Valley',\n",
              " 'Appleton',\n",
              " 'Arlington',\n",
              " 'Arlington Heights',\n",
              " 'Arvada',\n",
              " 'Asheville',\n",
              " 'Athens',\n",
              " 'Atlanta',\n",
              " 'Atlantic City',\n",
              " 'Auburn',\n",
              " 'Aurora',\n",
              " 'Austin',\n",
              " 'Avondale',\n",
              " 'Bakersfield',\n",
              " 'Baltimore',\n",
              " 'Bangor',\n",
              " 'Bartlett',\n",
              " 'Bayonne',\n",
              " 'Baytown',\n",
              " 'Beaumont',\n",
              " 'Bedford',\n",
              " 'Belleville',\n",
              " 'Bellevue',\n",
              " 'Bellingham',\n",
              " 'Bethlehem',\n",
              " 'Beverly',\n",
              " 'Billings',\n",
              " 'Bloomington',\n",
              " 'Boca Raton',\n",
              " 'Boise',\n",
              " 'Bolingbrook',\n",
              " 'Bossier City',\n",
              " 'Bowling Green',\n",
              " 'Boynton Beach',\n",
              " 'Bozeman',\n",
              " 'Brentwood',\n",
              " 'Bridgeton',\n",
              " 'Bristol',\n",
              " 'Broken Arrow',\n",
              " 'Broomfield',\n",
              " 'Brownsville',\n",
              " 'Bryan',\n",
              " 'Buffalo',\n",
              " 'Buffalo Grove',\n",
              " 'Bullhead City',\n",
              " 'Burbank',\n",
              " 'Burlington',\n",
              " 'Caldwell',\n",
              " 'Camarillo',\n",
              " 'Cambridge',\n",
              " 'Canton',\n",
              " 'Carlsbad',\n",
              " 'Carol Stream',\n",
              " 'Carrollton',\n",
              " 'Cary',\n",
              " 'Cedar Hill',\n",
              " 'Cedar Rapids',\n",
              " 'Champaign',\n",
              " 'Chandler',\n",
              " 'Chapel Hill',\n",
              " 'Charlotte',\n",
              " 'Charlottesville',\n",
              " 'Chattanooga',\n",
              " 'Chesapeake',\n",
              " 'Chester',\n",
              " 'Cheyenne',\n",
              " 'Chicago',\n",
              " 'Chico',\n",
              " 'Chula Vista',\n",
              " 'Cincinnati',\n",
              " 'Citrus Heights',\n",
              " 'Clarksville',\n",
              " 'Cleveland',\n",
              " 'Clifton',\n",
              " 'Clinton',\n",
              " 'Clovis',\n",
              " 'Coachella',\n",
              " 'College Station',\n",
              " 'Colorado Springs',\n",
              " 'Columbia',\n",
              " 'Columbus',\n",
              " 'Commerce City',\n",
              " 'Concord',\n",
              " 'Conroe',\n",
              " 'Conway',\n",
              " 'Coon Rapids',\n",
              " 'Coppell',\n",
              " 'Coral Gables',\n",
              " 'Coral Springs',\n",
              " 'Corpus Christi',\n",
              " 'Costa Mesa',\n",
              " 'Cottage Grove',\n",
              " 'Covington',\n",
              " 'Cranston',\n",
              " 'Cuyahoga Falls',\n",
              " 'Dallas',\n",
              " 'Danbury',\n",
              " 'Danville',\n",
              " 'Davis',\n",
              " 'Daytona Beach',\n",
              " 'Dearborn',\n",
              " 'Dearborn Heights',\n",
              " 'Decatur',\n",
              " 'Deer Park',\n",
              " 'Delray Beach',\n",
              " 'Deltona',\n",
              " 'Denver',\n",
              " 'Des Moines',\n",
              " 'Des Plaines',\n",
              " 'Detroit',\n",
              " 'Dover',\n",
              " 'Draper',\n",
              " 'Dublin',\n",
              " 'Dubuque',\n",
              " 'Durham',\n",
              " 'Eagan',\n",
              " 'East Orange',\n",
              " 'East Point',\n",
              " 'Eau Claire',\n",
              " 'Edinburg',\n",
              " 'Edmond',\n",
              " 'Edmonds',\n",
              " 'El Cajon',\n",
              " 'El Paso',\n",
              " 'Elkhart',\n",
              " 'Elmhurst',\n",
              " 'Elyria',\n",
              " 'Encinitas',\n",
              " 'Englewood',\n",
              " 'Escondido',\n",
              " 'Eugene',\n",
              " 'Evanston',\n",
              " 'Everett',\n",
              " 'Fairfield',\n",
              " 'Fargo',\n",
              " 'Farmington',\n",
              " 'Fayetteville',\n",
              " 'Florence',\n",
              " 'Fort Collins',\n",
              " 'Fort Lauderdale',\n",
              " 'Fort Worth',\n",
              " 'Frankfort',\n",
              " 'Franklin',\n",
              " 'Freeport',\n",
              " 'Fremont',\n",
              " 'Fresno',\n",
              " 'Frisco',\n",
              " 'Gaithersburg',\n",
              " 'Garden City',\n",
              " 'Garland',\n",
              " 'Gastonia',\n",
              " 'Georgetown',\n",
              " 'Gilbert',\n",
              " 'Gladstone',\n",
              " 'Glendale',\n",
              " 'Glenview',\n",
              " 'Goldsboro',\n",
              " 'Grand Island',\n",
              " 'Grand Prairie',\n",
              " 'Grand Rapids',\n",
              " 'Grapevine',\n",
              " 'Great Falls',\n",
              " 'Greeley',\n",
              " 'Green Bay',\n",
              " 'Greensboro',\n",
              " 'Greenville',\n",
              " 'Greenwood',\n",
              " 'Gresham',\n",
              " 'Grove City',\n",
              " 'Gulfport',\n",
              " 'Hackensack',\n",
              " 'Hagerstown',\n",
              " 'Haltom City',\n",
              " 'Hamilton',\n",
              " 'Hampton',\n",
              " 'Harlingen',\n",
              " 'Harrisonburg',\n",
              " 'Hattiesburg',\n",
              " 'Helena',\n",
              " 'Hempstead',\n",
              " 'Henderson',\n",
              " 'Hendersonville',\n",
              " 'Hesperia',\n",
              " 'Hialeah',\n",
              " 'Hickory',\n",
              " 'Highland Park',\n",
              " 'Hillsboro',\n",
              " 'Holland',\n",
              " 'Hollywood',\n",
              " 'Holyoke',\n",
              " 'Homestead',\n",
              " 'Hoover',\n",
              " 'Hot Springs',\n",
              " 'Houston',\n",
              " 'Huntington Beach',\n",
              " 'Huntsville',\n",
              " 'Independence',\n",
              " 'Indianapolis',\n",
              " 'Inglewood',\n",
              " 'Iowa City',\n",
              " 'Irving',\n",
              " 'Jackson',\n",
              " 'Jacksonville',\n",
              " 'Jamestown',\n",
              " 'Jefferson City',\n",
              " 'Johnson City',\n",
              " 'Jonesboro',\n",
              " 'Jupiter',\n",
              " 'Keller',\n",
              " 'Kenner',\n",
              " 'Kenosha',\n",
              " 'Kent',\n",
              " 'Kirkwood',\n",
              " 'Kissimmee',\n",
              " 'Knoxville',\n",
              " 'La Crosse',\n",
              " 'La Mesa',\n",
              " 'La Porte',\n",
              " 'La Quinta',\n",
              " 'Lafayette',\n",
              " 'Laguna Niguel',\n",
              " 'Lake Charles',\n",
              " 'Lake Elsinore',\n",
              " 'Lake Forest',\n",
              " 'Lakeland',\n",
              " 'Lakeville',\n",
              " 'Lakewood',\n",
              " 'Lancaster',\n",
              " 'Lansing',\n",
              " 'Laredo',\n",
              " 'Las Cruces',\n",
              " 'Las Vegas',\n",
              " 'Laurel',\n",
              " 'Lawrence',\n",
              " 'Lawton',\n",
              " 'Layton',\n",
              " 'League City',\n",
              " 'Lebanon',\n",
              " 'Lehi',\n",
              " 'Leominster',\n",
              " 'Lewiston',\n",
              " 'Lincoln Park',\n",
              " 'Linden',\n",
              " 'Lindenhurst',\n",
              " 'Little Rock',\n",
              " 'Littleton',\n",
              " 'Lodi',\n",
              " 'Logan',\n",
              " 'Long Beach',\n",
              " 'Longmont',\n",
              " 'Longview',\n",
              " 'Lorain',\n",
              " 'Los Angeles',\n",
              " 'Louisville',\n",
              " 'Loveland',\n",
              " 'Lowell',\n",
              " 'Lubbock',\n",
              " 'Macon',\n",
              " 'Madison',\n",
              " 'Malden',\n",
              " 'Manchester',\n",
              " 'Manhattan',\n",
              " 'Mansfield',\n",
              " 'Manteca',\n",
              " 'Maple Grove',\n",
              " 'Margate',\n",
              " 'Marietta',\n",
              " 'Marion',\n",
              " 'Marlborough',\n",
              " 'Marysville',\n",
              " 'Mason',\n",
              " 'Mcallen',\n",
              " 'Medford',\n",
              " 'Medina',\n",
              " 'Melbourne',\n",
              " 'Memphis',\n",
              " 'Mentor',\n",
              " 'Meriden',\n",
              " 'Meridian',\n",
              " 'Mesa',\n",
              " 'Mesquite',\n",
              " 'Miami',\n",
              " 'Middletown',\n",
              " 'Midland',\n",
              " 'Milford',\n",
              " 'Milwaukee',\n",
              " 'Minneapolis',\n",
              " 'Miramar',\n",
              " 'Mishawaka',\n",
              " 'Mission Viejo',\n",
              " 'Missoula',\n",
              " 'Missouri City',\n",
              " 'Mobile',\n",
              " 'Modesto',\n",
              " 'Monroe',\n",
              " 'Montebello',\n",
              " 'Montgomery',\n",
              " 'Moorhead',\n",
              " 'Moreno Valley',\n",
              " 'Morgan Hill',\n",
              " 'Morristown',\n",
              " 'Mount Pleasant',\n",
              " 'Mount Vernon',\n",
              " 'Murfreesboro',\n",
              " 'Murray',\n",
              " 'Murrieta',\n",
              " 'Muskogee',\n",
              " 'Naperville',\n",
              " 'Nashua',\n",
              " 'Nashville',\n",
              " 'New Albany',\n",
              " 'New Bedford',\n",
              " 'New Brunswick',\n",
              " 'New Castle',\n",
              " 'New Rochelle',\n",
              " 'New York City',\n",
              " 'Newark',\n",
              " 'Newport News',\n",
              " 'Niagara Falls',\n",
              " 'Noblesville',\n",
              " 'Norfolk',\n",
              " 'Normal',\n",
              " 'Norman',\n",
              " 'North Charleston',\n",
              " 'North Las Vegas',\n",
              " 'North Miami',\n",
              " 'Norwich',\n",
              " 'Oak Park',\n",
              " 'Oakland',\n",
              " 'Oceanside',\n",
              " 'Odessa',\n",
              " 'Oklahoma City',\n",
              " 'Olathe',\n",
              " 'Olympia',\n",
              " 'Omaha',\n",
              " 'Ontario',\n",
              " 'Orange',\n",
              " 'Orem',\n",
              " 'Orland Park',\n",
              " 'Orlando',\n",
              " 'Ormond Beach',\n",
              " 'Oswego',\n",
              " 'Overland Park',\n",
              " 'Owensboro',\n",
              " 'Oxnard',\n",
              " 'Palatine',\n",
              " 'Palm Coast',\n",
              " 'Park Ridge',\n",
              " 'Parker',\n",
              " 'Parma',\n",
              " 'Pasadena',\n",
              " 'Pasco',\n",
              " 'Passaic',\n",
              " 'Paterson',\n",
              " 'Pearland',\n",
              " 'Pembroke Pines',\n",
              " 'Pensacola',\n",
              " 'Peoria',\n",
              " 'Perth Amboy',\n",
              " 'Pharr',\n",
              " 'Philadelphia',\n",
              " 'Phoenix',\n",
              " 'Pico Rivera',\n",
              " 'Pine Bluff',\n",
              " 'Plainfield',\n",
              " 'Plano',\n",
              " 'Plantation',\n",
              " 'Pleasant Grove',\n",
              " 'Pocatello',\n",
              " 'Pomona',\n",
              " 'Pompano Beach',\n",
              " 'Port Arthur',\n",
              " 'Port Orange',\n",
              " 'Port Saint Lucie',\n",
              " 'Portage',\n",
              " 'Portland',\n",
              " 'Providence',\n",
              " 'Provo',\n",
              " 'Pueblo',\n",
              " 'Quincy',\n",
              " 'Raleigh',\n",
              " 'Rancho Cucamonga',\n",
              " 'Rapid City',\n",
              " 'Reading',\n",
              " 'Redding',\n",
              " 'Redlands',\n",
              " 'Redmond',\n",
              " 'Redondo Beach',\n",
              " 'Redwood City',\n",
              " 'Reno',\n",
              " 'Renton',\n",
              " 'Revere',\n",
              " 'Richardson',\n",
              " 'Richmond',\n",
              " 'Rio Rancho',\n",
              " 'Riverside',\n",
              " 'Rochester',\n",
              " 'Rochester Hills',\n",
              " 'Rock Hill',\n",
              " 'Rockford',\n",
              " 'Rockville',\n",
              " 'Rogers',\n",
              " 'Rome',\n",
              " 'Romeoville',\n",
              " 'Roseville',\n",
              " 'Roswell',\n",
              " 'Round Rock',\n",
              " 'Royal Oak',\n",
              " 'Sacramento',\n",
              " 'Saginaw',\n",
              " 'Saint Charles',\n",
              " 'Saint Cloud',\n",
              " 'Saint Louis',\n",
              " 'Saint Paul',\n",
              " 'Saint Peters',\n",
              " 'Saint Petersburg',\n",
              " 'Salem',\n",
              " 'Salinas',\n",
              " 'Salt Lake City',\n",
              " 'San Angelo',\n",
              " 'San Antonio',\n",
              " 'San Bernardino',\n",
              " 'San Clemente',\n",
              " 'San Diego',\n",
              " 'San Francisco',\n",
              " 'San Gabriel',\n",
              " 'San Jose',\n",
              " 'San Luis Obispo',\n",
              " 'San Marcos',\n",
              " 'San Mateo',\n",
              " 'Sandy Springs',\n",
              " 'Sanford',\n",
              " 'Santa Ana',\n",
              " 'Santa Barbara',\n",
              " 'Santa Clara',\n",
              " 'Santa Fe',\n",
              " 'Santa Maria',\n",
              " 'Scottsdale',\n",
              " 'Seattle',\n",
              " 'Sheboygan',\n",
              " 'Shelton',\n",
              " 'Sierra Vista',\n",
              " 'Sioux Falls',\n",
              " 'Skokie',\n",
              " 'Smyrna',\n",
              " 'South Bend',\n",
              " 'Southaven',\n",
              " 'Sparks',\n",
              " 'Spokane',\n",
              " 'Springdale',\n",
              " 'Springfield',\n",
              " 'Sterling Heights',\n",
              " 'Stockton',\n",
              " 'Suffolk',\n",
              " 'Summerville',\n",
              " 'Sunnyvale',\n",
              " 'Superior',\n",
              " 'Tallahassee',\n",
              " 'Tamarac',\n",
              " 'Tampa',\n",
              " 'Taylor',\n",
              " 'Temecula',\n",
              " 'Tempe',\n",
              " 'Texarkana',\n",
              " 'Texas City',\n",
              " 'The Colony',\n",
              " 'Thomasville',\n",
              " 'Thornton',\n",
              " 'Thousand Oaks',\n",
              " 'Tigard',\n",
              " 'Tinley Park',\n",
              " 'Toledo',\n",
              " 'Torrance',\n",
              " 'Trenton',\n",
              " 'Troy',\n",
              " 'Tucson',\n",
              " 'Tulsa',\n",
              " 'Tuscaloosa',\n",
              " 'Twin Falls',\n",
              " 'Tyler',\n",
              " 'Urbandale',\n",
              " 'Utica',\n",
              " 'Vacaville',\n",
              " 'Vallejo',\n",
              " 'Vancouver',\n",
              " 'Vineland',\n",
              " 'Virginia Beach',\n",
              " 'Visalia',\n",
              " 'Waco',\n",
              " 'Warner Robins',\n",
              " 'Warwick',\n",
              " 'Washington',\n",
              " 'Waterbury',\n",
              " 'Waterloo',\n",
              " 'Watertown',\n",
              " 'Waukesha',\n",
              " 'Wausau',\n",
              " 'Waynesboro',\n",
              " 'West Allis',\n",
              " 'West Jordan',\n",
              " 'West Palm Beach',\n",
              " 'Westfield',\n",
              " 'Westland',\n",
              " 'Westminster',\n",
              " 'Wheeling',\n",
              " 'Whittier',\n",
              " 'Wichita',\n",
              " 'Wilmington',\n",
              " 'Wilson',\n",
              " 'Woodbury',\n",
              " 'Woodland',\n",
              " 'Woodstock',\n",
              " 'Woonsocket',\n",
              " 'Yonkers',\n",
              " 'York',\n",
              " 'Yucaipa',\n",
              " 'Yuma']"
            ]
          },
          "metadata": {
            "tags": []
          },
          "execution_count": 38
        }
      ]
    },
    {
      "cell_type": "code",
      "metadata": {
        "id": "uCC7q0KhHMKs",
        "colab": {
          "base_uri": "https://localhost:8080/"
        },
        "outputId": "0f57508d-6ac8-49f8-b311-7c81d83edaf1"
      },
      "source": [
        "len(city)"
      ],
      "execution_count": 39,
      "outputs": [
        {
          "output_type": "execute_result",
          "data": {
            "text/plain": [
              "531"
            ]
          },
          "metadata": {
            "tags": []
          },
          "execution_count": 39
        }
      ]
    },
    {
      "cell_type": "code",
      "metadata": {
        "id": "EwldVw-rHO-0",
        "colab": {
          "base_uri": "https://localhost:8080/"
        },
        "outputId": "37d9cb55-e073-4fd7-a116-b50a6ad496ae"
      },
      "source": [
        "df['City'].value_counts()"
      ],
      "execution_count": 40,
      "outputs": [
        {
          "output_type": "execute_result",
          "data": {
            "text/plain": [
              "New York City    906\n",
              "Los Angeles      734\n",
              "Philadelphia     531\n",
              "San Francisco    503\n",
              "Seattle          424\n",
              "                ... \n",
              "Lake Elsinore      1\n",
              "Champaign          1\n",
              "Aberdeen           1\n",
              "Bartlett           1\n",
              "Vacaville          1\n",
              "Name: City, Length: 531, dtype: int64"
            ]
          },
          "metadata": {
            "tags": []
          },
          "execution_count": 40
        }
      ]
    },
    {
      "cell_type": "code",
      "metadata": {
        "id": "oS-okXh9HTNn",
        "colab": {
          "base_uri": "https://localhost:8080/"
        },
        "outputId": "82599a07-cba1-4165-c2fb-54af1c8bbf84"
      },
      "source": [
        "df['City'].value_counts().min()"
      ],
      "execution_count": 41,
      "outputs": [
        {
          "output_type": "execute_result",
          "data": {
            "text/plain": [
              "1"
            ]
          },
          "metadata": {
            "tags": []
          },
          "execution_count": 41
        }
      ]
    },
    {
      "cell_type": "code",
      "metadata": {
        "id": "z86BhX4aHXBU",
        "colab": {
          "base_uri": "https://localhost:8080/"
        },
        "outputId": "0347f8cd-1f93-47a3-bead-4da9b39e386e"
      },
      "source": [
        "df['City'].value_counts().max()"
      ],
      "execution_count": 42,
      "outputs": [
        {
          "output_type": "execute_result",
          "data": {
            "text/plain": [
              "906"
            ]
          },
          "metadata": {
            "tags": []
          },
          "execution_count": 42
        }
      ]
    },
    {
      "cell_type": "code",
      "metadata": {
        "id": "CkrDJFf7HdAM",
        "colab": {
          "base_uri": "https://localhost:8080/",
          "height": 417
        },
        "outputId": "51abcc21-2751-4b40-cab5-2555862152b1"
      },
      "source": [
        "df[df['City']=='New York City']"
      ],
      "execution_count": 43,
      "outputs": [
        {
          "output_type": "execute_result",
          "data": {
            "text/html": [
              "<div>\n",
              "<style scoped>\n",
              "    .dataframe tbody tr th:only-of-type {\n",
              "        vertical-align: middle;\n",
              "    }\n",
              "\n",
              "    .dataframe tbody tr th {\n",
              "        vertical-align: top;\n",
              "    }\n",
              "\n",
              "    .dataframe thead th {\n",
              "        text-align: right;\n",
              "    }\n",
              "</style>\n",
              "<table border=\"1\" class=\"dataframe\">\n",
              "  <thead>\n",
              "    <tr style=\"text-align: right;\">\n",
              "      <th></th>\n",
              "      <th>Ship Mode</th>\n",
              "      <th>Segment</th>\n",
              "      <th>Country</th>\n",
              "      <th>City</th>\n",
              "      <th>State</th>\n",
              "      <th>Region</th>\n",
              "      <th>Category</th>\n",
              "      <th>Sub-Category</th>\n",
              "      <th>Sales</th>\n",
              "      <th>Quantity</th>\n",
              "      <th>Discount</th>\n",
              "      <th>Profit</th>\n",
              "      <th>Cost</th>\n",
              "      <th>Profit%</th>\n",
              "    </tr>\n",
              "  </thead>\n",
              "  <tbody>\n",
              "    <tr>\n",
              "      <th>53</th>\n",
              "      <td>Standard Class</td>\n",
              "      <td>Corporate</td>\n",
              "      <td>United States</td>\n",
              "      <td>New York City</td>\n",
              "      <td>New York</td>\n",
              "      <td>East</td>\n",
              "      <td>Office Supplies</td>\n",
              "      <td>Fasteners</td>\n",
              "      <td>15.260</td>\n",
              "      <td>7</td>\n",
              "      <td>0.0</td>\n",
              "      <td>6.2566</td>\n",
              "      <td>9.0034</td>\n",
              "      <td>69.491525</td>\n",
              "    </tr>\n",
              "    <tr>\n",
              "      <th>54</th>\n",
              "      <td>Standard Class</td>\n",
              "      <td>Corporate</td>\n",
              "      <td>United States</td>\n",
              "      <td>New York City</td>\n",
              "      <td>New York</td>\n",
              "      <td>East</td>\n",
              "      <td>Technology</td>\n",
              "      <td>Phones</td>\n",
              "      <td>1029.950</td>\n",
              "      <td>5</td>\n",
              "      <td>0.0</td>\n",
              "      <td>298.6855</td>\n",
              "      <td>731.2645</td>\n",
              "      <td>40.845070</td>\n",
              "    </tr>\n",
              "    <tr>\n",
              "      <th>70</th>\n",
              "      <td>Standard Class</td>\n",
              "      <td>Consumer</td>\n",
              "      <td>United States</td>\n",
              "      <td>New York City</td>\n",
              "      <td>New York</td>\n",
              "      <td>East</td>\n",
              "      <td>Office Supplies</td>\n",
              "      <td>Binders</td>\n",
              "      <td>4.616</td>\n",
              "      <td>1</td>\n",
              "      <td>0.2</td>\n",
              "      <td>1.7310</td>\n",
              "      <td>2.8850</td>\n",
              "      <td>60.000000</td>\n",
              "    </tr>\n",
              "    <tr>\n",
              "      <th>96</th>\n",
              "      <td>Second Class</td>\n",
              "      <td>Home Office</td>\n",
              "      <td>United States</td>\n",
              "      <td>New York City</td>\n",
              "      <td>New York</td>\n",
              "      <td>East</td>\n",
              "      <td>Furniture</td>\n",
              "      <td>Furnishings</td>\n",
              "      <td>96.530</td>\n",
              "      <td>7</td>\n",
              "      <td>0.0</td>\n",
              "      <td>40.5426</td>\n",
              "      <td>55.9874</td>\n",
              "      <td>72.413793</td>\n",
              "    </tr>\n",
              "    <tr>\n",
              "      <th>110</th>\n",
              "      <td>Standard Class</td>\n",
              "      <td>Corporate</td>\n",
              "      <td>United States</td>\n",
              "      <td>New York City</td>\n",
              "      <td>New York</td>\n",
              "      <td>East</td>\n",
              "      <td>Furniture</td>\n",
              "      <td>Furnishings</td>\n",
              "      <td>41.960</td>\n",
              "      <td>2</td>\n",
              "      <td>0.0</td>\n",
              "      <td>10.9096</td>\n",
              "      <td>31.0504</td>\n",
              "      <td>35.135135</td>\n",
              "    </tr>\n",
              "    <tr>\n",
              "      <th>...</th>\n",
              "      <td>...</td>\n",
              "      <td>...</td>\n",
              "      <td>...</td>\n",
              "      <td>...</td>\n",
              "      <td>...</td>\n",
              "      <td>...</td>\n",
              "      <td>...</td>\n",
              "      <td>...</td>\n",
              "      <td>...</td>\n",
              "      <td>...</td>\n",
              "      <td>...</td>\n",
              "      <td>...</td>\n",
              "      <td>...</td>\n",
              "      <td>...</td>\n",
              "    </tr>\n",
              "    <tr>\n",
              "      <th>9926</th>\n",
              "      <td>First Class</td>\n",
              "      <td>Corporate</td>\n",
              "      <td>United States</td>\n",
              "      <td>New York City</td>\n",
              "      <td>New York</td>\n",
              "      <td>East</td>\n",
              "      <td>Technology</td>\n",
              "      <td>Phones</td>\n",
              "      <td>199.980</td>\n",
              "      <td>2</td>\n",
              "      <td>0.0</td>\n",
              "      <td>53.9946</td>\n",
              "      <td>145.9854</td>\n",
              "      <td>36.986301</td>\n",
              "    </tr>\n",
              "    <tr>\n",
              "      <th>9927</th>\n",
              "      <td>First Class</td>\n",
              "      <td>Corporate</td>\n",
              "      <td>United States</td>\n",
              "      <td>New York City</td>\n",
              "      <td>New York</td>\n",
              "      <td>East</td>\n",
              "      <td>Office Supplies</td>\n",
              "      <td>Storage</td>\n",
              "      <td>83.920</td>\n",
              "      <td>4</td>\n",
              "      <td>0.0</td>\n",
              "      <td>20.1408</td>\n",
              "      <td>63.7792</td>\n",
              "      <td>31.578947</td>\n",
              "    </tr>\n",
              "    <tr>\n",
              "      <th>9938</th>\n",
              "      <td>Standard Class</td>\n",
              "      <td>Corporate</td>\n",
              "      <td>United States</td>\n",
              "      <td>New York City</td>\n",
              "      <td>New York</td>\n",
              "      <td>East</td>\n",
              "      <td>Furniture</td>\n",
              "      <td>Furnishings</td>\n",
              "      <td>60.350</td>\n",
              "      <td>5</td>\n",
              "      <td>0.0</td>\n",
              "      <td>19.9155</td>\n",
              "      <td>40.4345</td>\n",
              "      <td>49.253731</td>\n",
              "    </tr>\n",
              "    <tr>\n",
              "      <th>9939</th>\n",
              "      <td>Standard Class</td>\n",
              "      <td>Corporate</td>\n",
              "      <td>United States</td>\n",
              "      <td>New York City</td>\n",
              "      <td>New York</td>\n",
              "      <td>East</td>\n",
              "      <td>Office Supplies</td>\n",
              "      <td>Supplies</td>\n",
              "      <td>35.520</td>\n",
              "      <td>4</td>\n",
              "      <td>0.0</td>\n",
              "      <td>9.9456</td>\n",
              "      <td>25.5744</td>\n",
              "      <td>38.888889</td>\n",
              "    </tr>\n",
              "    <tr>\n",
              "      <th>9940</th>\n",
              "      <td>Standard Class</td>\n",
              "      <td>Corporate</td>\n",
              "      <td>United States</td>\n",
              "      <td>New York City</td>\n",
              "      <td>New York</td>\n",
              "      <td>East</td>\n",
              "      <td>Office Supplies</td>\n",
              "      <td>Art</td>\n",
              "      <td>11.200</td>\n",
              "      <td>7</td>\n",
              "      <td>0.0</td>\n",
              "      <td>4.8160</td>\n",
              "      <td>6.3840</td>\n",
              "      <td>75.438596</td>\n",
              "    </tr>\n",
              "  </tbody>\n",
              "</table>\n",
              "<p>906 rows × 14 columns</p>\n",
              "</div>"
            ],
            "text/plain": [
              "           Ship Mode      Segment        Country  ...    Profit      Cost    Profit%\n",
              "53    Standard Class    Corporate  United States  ...    6.2566    9.0034  69.491525\n",
              "54    Standard Class    Corporate  United States  ...  298.6855  731.2645  40.845070\n",
              "70    Standard Class     Consumer  United States  ...    1.7310    2.8850  60.000000\n",
              "96      Second Class  Home Office  United States  ...   40.5426   55.9874  72.413793\n",
              "110   Standard Class    Corporate  United States  ...   10.9096   31.0504  35.135135\n",
              "...              ...          ...            ...  ...       ...       ...        ...\n",
              "9926     First Class    Corporate  United States  ...   53.9946  145.9854  36.986301\n",
              "9927     First Class    Corporate  United States  ...   20.1408   63.7792  31.578947\n",
              "9938  Standard Class    Corporate  United States  ...   19.9155   40.4345  49.253731\n",
              "9939  Standard Class    Corporate  United States  ...    9.9456   25.5744  38.888889\n",
              "9940  Standard Class    Corporate  United States  ...    4.8160    6.3840  75.438596\n",
              "\n",
              "[906 rows x 14 columns]"
            ]
          },
          "metadata": {
            "tags": []
          },
          "execution_count": 43
        }
      ]
    },
    {
      "cell_type": "markdown",
      "metadata": {
        "id": "fiumygwxHtEi"
      },
      "source": [
        "# **THANK YOU**"
      ]
    }
  ]
}